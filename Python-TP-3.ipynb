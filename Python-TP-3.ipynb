{
 "cells": [
  {
   "cell_type": "markdown",
   "id": "d68c1dee",
   "metadata": {
    "id": "d68c1dee"
   },
   "source": [
    "# Practical_3: Iterable objects or Containers"
   ]
  },
  {
   "cell_type": "markdown",
   "id": "bea983a3",
   "metadata": {
    "id": "bea983a3"
   },
   "source": [
    "\n",
    "---\n",
    "\n",
    "### Exercise 1:\n",
    "Create a list of integers from 1 to 10.\n",
    "\n",
    "```python\n",
    "# Exercise 1\n",
    "```\n",
    "\n",
    "---\n",
    "\n",
    "### Exercise 2:\n",
    "Create a tuple containing the elements `\"apple\"`, `\"banana\"`, and `\"cherry\"`.\n",
    "\n",
    "```python\n",
    "# Exercise 2\n",
    "```\n",
    "\n",
    "---\n",
    "\n",
    "### Exercise 3:\n",
    "Convert the list `numbers = [10, 20, 30, 40]` into a tuple.\n",
    "\n",
    "```python\n",
    "# Exercise 3\n",
    "```\n",
    "\n",
    "---\n",
    "\n",
    "### Exercise 4:\n",
    "Create a set containing the elements `1, 2, 3, 4, 5`.\n",
    "\n",
    "```python\n",
    "# Exercise 4\n",
    "```\n",
    "\n",
    "---\n",
    "\n",
    "### Exercise 5:\n",
    "Create a dictionary `student` with the keys `\"name\"`, `\"age\"`, and `\"grade\"` and corresponding values `\"Alice\"`, `20`, and `\"A\"`.\n",
    "\n",
    "```python\n",
    "# Exercise 5\n",
    "```\n",
    "\n",
    "---\n",
    "\n",
    "### Exercise 6:\n",
    "Access the second element of the list `[10, 20, 30, 40, 50]` using indexing.\n",
    "\n",
    "```python\n",
    "# Exercise 6\n",
    "```\n",
    "\n",
    "---\n",
    "\n",
    "### Exercise 7:\n",
    "Change the third element of the list `fruits = [\"apple\", \"banana\", \"cherry\", \"orange\"]` to `\"mango\"`.\n",
    "\n",
    "```python\n",
    "# Exercise 7\n",
    "```\n",
    "\n",
    "---\n",
    "\n",
    "### Exercise 8:\n",
    "Add the number `6` to the set `numbers = {1, 2, 3, 4, 5}`.\n",
    "\n",
    "```python\n",
    "# Exercise 8\n",
    "```\n",
    "\n",
    "---\n",
    "\n",
    "### Exercise 9:\n",
    "Remove the key `\"age\"` from the dictionary `person = {\"name\": \"John\", \"age\": 25, \"city\": \"New York\"}`.\n",
    "\n",
    "```python\n",
    "# Exercise 9\n",
    "```\n",
    "\n",
    "---\n",
    "\n",
    "### Exercise 10:\n",
    "Create a range object starting from 0 to 9.\n",
    "\n",
    "```python\n",
    "# Exercise 10\n",
    "```\n",
    "\n",
    "---\n",
    "\n",
    "### Exercise 11:\n",
    "Use a list comprehension to create a list of squares of numbers from 1 to 10.\n",
    "\n",
    "```python\n",
    "# Exercise 11\n",
    "```\n",
    "\n",
    "---\n",
    "\n",
    "### Exercise 12:\n",
    "Create a tuple of even numbers between 2 and 10 using a tuple comprehension.\n",
    "\n",
    "```python\n",
    "# Exercise 12\n",
    "```\n",
    "\n",
    "---\n",
    "\n",
    "### Exercise 13:\n",
    "Use a for loop to iterate through the list `fruits = [\"apple\", \"banana\", \"cherry\"]` and print each element.\n",
    "\n",
    "```python\n",
    "# Exercise 13\n",
    "```\n",
    "\n",
    "---\n",
    "\n",
    "### Exercise 14:\n",
    "Check if the value `3` exists in the set `numbers = {1, 2, 3, 4, 5}`.\n",
    "\n",
    "```python\n",
    "# Exercise 14\n",
    "```\n",
    "\n",
    "---\n",
    "\n",
    "### Exercise 15:\n",
    "Use the `len()` function to find the length of the tuple `numbers = (10, 20, 30)`.\n",
    "\n",
    "```python\n",
    "# Exercise 15\n",
    "```\n",
    "\n",
    "---\n",
    "\n",
    "### Exercise 16:\n",
    "Add the value `100` at the end of the list `scores = [80, 85, 90, 95]`.\n",
    "\n",
    "```python\n",
    "# Exercise 16\n",
    "```\n",
    "\n",
    "---\n",
    "\n",
    "### Exercise 17:\n",
    "Write a function that takes a list as input and returns the sum of all elements in the list.\n",
    "\n",
    "```python\n",
    "# Exercise 17\n",
    "```\n",
    "\n",
    "---\n",
    "\n",
    "### Exercise 18:\n",
    "Create a set containing the unique elements of the list `numbers = [1, 2, 2, 3, 4, 4, 5]`.\n",
    "\n",
    "```python\n",
    "# Exercise 18\n",
    "```\n",
    "\n",
    "---\n",
    "\n",
    "### Exercise 19:\n",
    "Convert the string `\"hello\"` into a list of characters.\n",
    "\n",
    "```python\n",
    "# Exercise 19\n",
    "```\n",
    "\n",
    "---\n",
    "\n",
    "### Exercise 20:\n",
    "Write a Python function that reverses a tuple `(1, 2, 3, 4)`.\n",
    "\n",
    "```python\n",
    "# Exercise 20\n",
    "```\n",
    "\n",
    "---\n",
    "\n",
    "### Exercise 21:\n",
    "Merge two dictionaries `dict1 = {\"a\": 1, \"b\": 2}` and `dict2 = {\"c\": 3, \"d\": 4}` into a single dictionary.\n",
    "\n",
    "```python\n",
    "# Exercise 21\n",
    "```\n",
    "\n",
    "---\n",
    "\n",
    "### Exercise 22:\n",
    "Create a dictionary where keys are numbers from 1 to 5, and values are their squares.\n",
    "\n",
    "```python\n",
    "# Exercise 22\n",
    "```\n",
    "\n",
    "---\n",
    "\n",
    "### Exercise 23:\n",
    "Write a Python program to iterate through a dictionary and print each key-value pair.\n",
    "\n",
    "```python\n",
    "# Exercise 23\n",
    "```\n",
    "\n",
    "---\n",
    "\n",
    "### Exercise 24:\n",
    "Create a list of the first 5 letters of the alphabet using the `chr()` function.\n",
    "\n",
    "```python\n",
    "# Exercise 24\n",
    "```\n",
    "\n",
    "---\n",
    "\n",
    "### Exercise 25:\n",
    "Use the `zip()` function to combine two lists `[1, 2, 3]` and `[\"a\", \"b\", \"c\"]` into a list of tuples.\n",
    "\n",
    "```python\n",
    "# Exercise 25\n",
    "```\n",
    "\n",
    "---\n",
    "\n",
    "### Exercise 26:\n",
    "Find the index of the value `50` in the list `[10, 20, 30, 40, 50]`.\n",
    "\n",
    "```python\n",
    "# Exercise 26\n",
    "```\n",
    "\n",
    "---\n",
    "\n",
    "### Exercise 27:\n",
    "Sort the list `names = [\"Alice\", \"Bob\", \"Charlie\", \"David\"]` in alphabetical order.\n",
    "\n",
    "```python\n",
    "# Exercise 27\n",
    "```\n",
    "\n",
    "---\n",
    "\n",
    "### Exercise 28:\n",
    "Write a Python function that takes a list of integers as input and returns the largest number.\n",
    "\n",
    "```python\n",
    "# Exercise 28\n",
    "```\n",
    "\n",
    "---\n",
    "\n",
    "### Exercise 29:\n",
    "Use the `count()` method to count how many times `\"apple\"` appears in the list `fruits = [\"apple\", \"banana\", \"apple\", \"orange\"]`.\n",
    "\n",
    "```python\n",
    "# Exercise 29\n",
    "```\n",
    "\n",
    "---\n",
    "\n",
    "### Exercise 30:\n",
    "Create a dictionary `person` where keys are `\"name\"`, `\"age\"`, and `\"city\"`, and values are `\"Alice\"`, `25`, and `\"New York\"` respectively. Then access the value of the `\"city\"` key.\n",
    "\n",
    "```python\n",
    "# Exercise 30\n",
    "```\n",
    "\n",
    "---\n",
    "\n",
    "### Exercise 31:\n",
    "Write a Python function that takes a list as input and returns a new list with all duplicates removed.\n",
    "\n",
    "```python\n",
    "# Exercise 31\n",
    "```\n",
    "\n",
    "---\n",
    "\n",
    "### Exercise 32:\n",
    "Write a Python function that takes two lists and returns their intersection.\n",
    "\n",
    "```python\n",
    "# Exercise 32\n",
    "```\n",
    "\n",
    "---\n",
    "\n",
    "### Exercise 33:\n",
    "Create a generator that yields the squares of numbers from 1 to 10.\n",
    "\n",
    "```python\n",
    "# Exercise 33\n",
    "```\n",
    "\n",
    "---\n",
    "\n",
    "### Exercise 34:\n",
    "Write a Python function that takes a dictionary as input and returns the sum of all its values.\n",
    "\n",
    "```python\n",
    "# Exercise 34\n",
    "```\n",
    "\n",
    "---\n",
    "\n",
    "### Exercise 35:\n",
    "Use the `sorted()` function to sort the list `[3, 1, 4, 1, 5, 9]` in ascending order.\n",
    "\n",
    "```python\n",
    "# Exercise 35\n",
    "```\n",
    "\n",
    "---\n",
    "\n",
    "### Exercise 36:\n",
    "Write a Python function that takes a list of strings as input and returns the longest string.\n",
    "\n",
    "```python\n",
    "# Exercise 36\n",
    "```\n",
    "\n",
    "---\n",
    "\n",
    "### Exercise 37:\n",
    "Check if all the elements in the list `[1, 2, 3, 4, 5]` are greater than 0 using the `all()` function.\n",
    "\n",
    "```python\n",
    "# Exercise 37\n",
    "```\n",
    "\n",
    "---\n",
    "\n",
    "### Exercise 38:\n",
    "Create a list of tuples where each tuple contains a number and its square for numbers from 1 to 5.\n",
    "\n",
    "```python\n",
    "# Exercise 38\n",
    "```\n",
    "\n",
    "---\n",
    "\n",
    "### Exercise 39:\n",
    "Write a Python function that takes a list of tuples and returns a list of the second elements from each tuple.\n",
    "\n",
    "```python\n",
    "# Exercise 39\n",
    "```\n",
    "\n",
    "---\n",
    "\n",
    "### Exercise 40:\n",
    "Write a Python function that flattens a list of lists into a single list.\n",
    "\n",
    "```python\n",
    "# Exercise 40\n",
    "```\n",
    "\n",
    "---\n",
    "\n",
    "### Exercise 41:\n",
    "Use the `enumerate()` function to iterate through the list `[\"apple\", \"banana\", \"cherry\"]` and print the index and value.\n",
    "\n",
    "```python\n",
    "# Exercise 41\n",
    "```\n",
    "\n",
    "---\n",
    "\n",
    "### Exercise 42:\n",
    "Write a Python program that checks if a tuple is empty.\n",
    "\n",
    "```python\n",
    "# Exercise 42\n",
    "```\n",
    "\n",
    "---\n",
    "\n",
    "### Exercise 43:\n",
    "Create a list of even numbers between 1 and 20 using the `range()` function.\n",
    "\n",
    "```python\n",
    "# Exercise 43\n",
    "```\n",
    "\n",
    "---\n",
    "\n",
    "### Exercise 44:\n",
    "Write a Python function that takes a list of numbers as input and returns the list in reverse order.\n",
    "\n",
    "```python\n",
    "# Exercise 44\n",
    "```\n",
    "\n",
    "---\n",
    "\n",
    "### Exercise 45:\n",
    "Create a dictionary comprehension that maps numbers from 1 to 5 to their cubes.\n",
    "\n",
    "```python\n",
    "# Exercise 45\n",
    "```\n",
    "\n",
    "---\n",
    "\n",
    "### Exercise 46:\n",
    "Write a Python program that creates a new list containing only the unique elements of the list `[1, 2, 2, 3, 4, 4, 5]`.\n",
    "\n",
    "```python\n",
    "# Exercise 46\n",
    "```\n",
    "\n",
    "---\n",
    "\n",
    "### Exercise 47:\n",
    "Write a Python function that takes a list of dictionaries and returns a list of the values for a given key.\n",
    "\n",
    "```python\n",
    "# Exercise 47\n",
    "```\n",
    "\n",
    "---\n",
    "\n",
    "### Exercise 48:\n",
    "Write a Python function that uses a generator to yield the Fibonacci sequence up to `n` terms.\n",
    "\n",
    "```python\n",
    "# Exercise 48\n",
    "```\n",
    "\n",
    "---\n",
    "\n",
    "### Exercise 49:\n",
    "Write a Python function that takes a string and returns a list of all unique characters in the string.\n",
    "\n",
    "```python\n",
    "# Exercise 49\n",
    "```\n",
    "\n",
    "---\n",
    "\n",
    "### Exercise 50:\n",
    "Write a Python function that merges two sorted lists into a single sorted list.\n",
    "\n",
    "```python\n",
    "# Exercise 50\n",
    "```\n",
    "\n",
    "---\n",
    "\n",
    "### Exercise 51:\n",
    "Use the\n",
    "\n",
    " `filter()` function to filter out odd numbers from the list `[1, 2, 3, 4, 5, 6]`.\n",
    "\n",
    "```python\n",
    "# Exercise 51\n",
    "```\n",
    "\n",
    "---\n",
    "\n",
    "### Exercise 52:\n",
    "Write a Python program that converts a list of tuples `[(1, 2), (3, 4), (5, 6)]` into a dictionary.\n",
    "\n",
    "```python\n",
    "# Exercise 52\n",
    "```\n",
    "\n",
    "---\n",
    "\n",
    "### Exercise 53:\n",
    "Write a Python function that takes two sets and returns their symmetric difference.\n",
    "\n",
    "```python\n",
    "# Exercise 53\n",
    "```\n",
    "\n",
    "---\n",
    "\n",
    "### Exercise 54:\n",
    "Write a Python program that finds the common elements in three lists `list1`, `list2`, and `list3`.\n",
    "\n",
    "```python\n",
    "# Exercise 54\n",
    "```\n",
    "\n",
    "---\n",
    "\n",
    "### Exercise 55:\n",
    "Write a Python function that returns the factorial of a number using recursion.\n",
    "\n",
    "```python\n",
    "# Exercise 55\n",
    "```\n",
    "\n",
    "---\n",
    "\n",
    "### Exercise 56:\n",
    "Write a Python program that removes all empty strings from the list `[\"apple\", \"\", \"banana\", \"\", \"cherry\"]`.\n",
    "\n",
    "```python\n",
    "# Exercise 56\n",
    "```\n",
    "\n",
    "---\n",
    "\n",
    "### Exercise 57:\n",
    "Write a Python function that takes a dictionary and returns a new dictionary with the keys and values swapped.\n",
    "\n",
    "```python\n",
    "# Exercise 57\n",
    "```\n",
    "\n",
    "---\n",
    "\n",
    "### Exercise 58:\n",
    "Write a Python function that takes a list of integers and returns a new list with only the even numbers.\n",
    "\n",
    "```python\n",
    "# Exercise 58\n",
    "```\n",
    "\n",
    "---\n",
    "\n",
    "### Exercise 59:\n",
    "Write a Python function that takes a list of tuples and returns a list of the first elements of each tuple.\n",
    "\n",
    "```python\n",
    "# Exercise 59\n",
    "```\n",
    "\n",
    "---\n",
    "\n",
    "### Exercise 60:\n",
    "Write a Python program that removes duplicates from a list without changing the order of elements.\n",
    "\n",
    "```python\n",
    "# Exercise 60\n",
    "```\n",
    "\n",
    "---\n",
    "\n",
    "### Exercise 61:\n",
    "Use the `map()` function to convert a list of strings to a list of their lengths.\n",
    "\n",
    "```python\n",
    "# Exercise 61\n",
    "```\n",
    "\n",
    "---\n",
    "\n",
    "### Exercise 62:\n",
    "Write a Python program that calculates the average of a list of numbers.\n",
    "\n",
    "```python\n",
    "# Exercise 62\n",
    "```\n",
    "\n",
    "---\n",
    "\n",
    "### Exercise 63:\n",
    "Write a Python function that generates a list of the first `n` Fibonacci numbers.\n",
    "\n",
    "```python\n",
    "# Exercise 63\n",
    "```\n",
    "\n",
    "---\n",
    "\n",
    "### Exercise 64:\n",
    "Write a Python program that counts how many times each element appears in the list `[\"apple\", \"banana\", \"apple\", \"cherry\"]`.\n",
    "\n",
    "```python\n",
    "# Exercise 64\n",
    "```\n",
    "\n",
    "---\n",
    "\n",
    "### Exercise 65:\n",
    "Write a Python program that removes all occurrences of a specific value from a list.\n",
    "\n",
    "```python\n",
    "# Exercise 65\n",
    "```\n",
    "\n",
    "---\n",
    "\n",
    "### Exercise 66:\n",
    "Write a Python function that takes a list of strings and returns a list of the strings that start with a vowel.\n",
    "\n",
    "```python\n",
    "# Exercise 66\n",
    "```\n",
    "\n",
    "---\n",
    "\n",
    "### Exercise 67:\n",
    "Write a Python program that finds the intersection of two sets `set1` and `set2`.\n",
    "\n",
    "```python\n",
    "# Exercise 67\n",
    "```\n",
    "\n",
    "---\n",
    "\n",
    "### Exercise 68:\n",
    "Write a Python function that flattens a nested list.\n",
    "\n",
    "```python\n",
    "# Exercise 68\n",
    "```\n",
    "\n",
    "---\n",
    "\n",
    "### Exercise 69:\n",
    "Write a Python program that checks if all the elements in a list are unique.\n",
    "\n",
    "```python\n",
    "# Exercise 69\n",
    "```\n",
    "\n",
    "---\n",
    "\n",
    "### Exercise 70:\n",
    "Use the `reduce()` function from the `functools` module to multiply all elements in a list.\n",
    "\n",
    "```python\n",
    "# Exercise 70\n",
    "```\n",
    "\n",
    "---\n",
    "\n",
    "### Exercise 71:\n",
    "Write a Python function that takes a list of strings and returns a dictionary where keys are strings and values are their lengths.\n",
    "\n",
    "```python\n",
    "# Exercise 71\n",
    "```\n",
    "\n",
    "---\n",
    "\n",
    "### Exercise 72:\n",
    "Write a Python program that counts the number of vowels in a string.\n",
    "\n",
    "```python\n",
    "# Exercise 72\n",
    "```\n",
    "\n",
    "---\n",
    "\n",
    "### Exercise 73:\n",
    "Create a list of tuples where each tuple contains a number from 1 to 5 and its factorial.\n",
    "\n",
    "```python\n",
    "# Exercise 73\n",
    "```\n",
    "\n",
    "---\n",
    "\n",
    "### Exercise 74:\n",
    "Write a Python program that converts a list of dictionaries into a single dictionary by merging them.\n",
    "\n",
    "```python\n",
    "# Exercise 74\n",
    "```\n",
    "\n",
    "---\n",
    "\n",
    "### Exercise 75:\n",
    "Write a Python function that checks if a set is a subset of another set.\n",
    "\n",
    "```python\n",
    "# Exercise 75\n",
    "```\n",
    "\n",
    "---\n",
    "\n",
    "### Exercise 76:\n",
    "Write a Python program that sorts a list of tuples based on the second element in each tuple.\n",
    "\n",
    "```python\n",
    "# Exercise 76\n",
    "```\n",
    "\n",
    "---\n",
    "\n",
    "### Exercise 77:\n",
    "Write a Python function that takes a list of integers and returns a new list with only the positive integers.\n",
    "\n",
    "```python\n",
    "# Exercise 77\n",
    "```\n",
    "\n",
    "---\n",
    "\n",
    "### Exercise 78:\n",
    "Write a Python function that takes two sets and returns their union.\n",
    "\n",
    "```python\n",
    "# Exercise 78\n",
    "```\n",
    "\n",
    "---\n",
    "\n",
    "### Exercise 79:\n",
    "Write a Python function that takes a list of numbers and returns the product of all the numbers.\n",
    "\n",
    "```python\n",
    "# Exercise 79\n",
    "```\n",
    "\n",
    "---\n",
    "\n",
    "### Exercise 80:\n",
    "Write a Python program that converts a list of characters into a string.\n",
    "\n",
    "```python\n",
    "# Exercise 80\n",
    "```\n",
    "\n",
    "---\n",
    "\n",
    "### Exercise 81:\n",
    "Write a Python program that finds the second largest number in a list of integers.\n",
    "\n",
    "```python\n",
    "# Exercise 81\n",
    "```\n",
    "\n",
    "---\n",
    "\n",
    "### Exercise 82:\n",
    "Write a Python function that takes a dictionary and returns a list of its keys in sorted order.\n",
    "\n",
    "```python\n",
    "# Exercise 82\n",
    "```\n",
    "\n",
    "---\n",
    "\n",
    "### Exercise 83:\n",
    "Write a Python program that finds the most common element in a list.\n",
    "\n",
    "```python\n",
    "# Exercise 83\n",
    "```\n",
    "\n",
    "---\n",
    "\n",
    "### Exercise 84:\n",
    "Write a Python function that takes a list of tuples and returns a list of the tuples sorted by the first element.\n",
    "\n",
    "```python\n",
    "# Exercise 84\n",
    "```\n",
    "\n",
    "---\n",
    "\n",
    "### Exercise 85:\n",
    "Write a Python program that removes duplicates from a list of dictionaries.\n",
    "\n",
    "```python\n",
    "# Exercise 85\n",
    "```\n",
    "\n",
    "---\n",
    "\n",
    "### Exercise 86:\n",
    "Write a Python function that takes a list of numbers and returns the minimum and maximum numbers in the list.\n",
    "\n",
    "```python\n",
    "# Exercise 86\n",
    "```\n",
    "\n",
    "---\n",
    "\n",
    "### Exercise 87:\n",
    "Write a Python program that creates a list of tuples from two lists.\n",
    "\n",
    "```python\n",
    "# Exercise 87\n",
    "```\n",
    "\n",
    "---\n",
    "\n",
    "### Exercise 88:\n",
    "Write a Python function that takes a list of strings and returns a list of the strings in reverse order.\n",
    "\n",
    "```python\n",
    "# Exercise 88\n",
    "```\n",
    "\n",
    "---\n",
    "\n",
    "### Exercise 89:\n",
    "Write a Python function that takes a list of integers and returns the sum of all odd numbers.\n",
    "\n",
    "```python\n",
    "# Exercise 89\n",
    "```\n",
    "\n",
    "---\n",
    "\n",
    "### Exercise 90:\n",
    "Write a Python program that checks if a string is a palindrome.\n",
    "\n",
    "```python\n",
    "# Exercise 90\n",
    "```\n",
    "\n",
    "---\n",
    "\n",
    "### Exercise 91:\n",
    "Write a Python program that finds the median of a list of numbers.\n",
    "\n",
    "```python\n",
    "# Exercise 91\n",
    "```\n",
    "\n",
    "---\n",
    "\n",
    "### Exercise 92:\n",
    "Write a Python function that takes a list of dictionaries and returns a dictionary with the total value for each key.\n",
    "\n",
    "```python\n",
    "# Exercise 92\n",
    "```\n",
    "\n",
    "---\n",
    "\n",
    "### Exercise 93:\n",
    "Write a Python program that calculates the mode of a list of numbers.\n",
    "\n",
    "```python\n",
    "# Exercise 93\n",
    "```\n",
    "\n",
    "---\n",
    "\n",
    "### Exercise 94:\n",
    "Write a Python function that takes a list of numbers and returns the sum of the squares of all the numbers.\n",
    "\n",
    "```python\n",
    "# Exercise 94\n",
    "```\n",
    "\n",
    "---\n",
    "\n",
    "### Exercise 95:\n",
    "Write a Python program that creates a list of tuples, where each tuple contains a number and its cube for numbers from 1 to 5.\n",
    "\n",
    "```python\n",
    "# Exercise 95\n",
    "```\n",
    "\n",
    "---\n",
    "\n",
    "### Exercise 96:\n",
    "Write a Python function that returns a list of all prime numbers up to `n`.\n",
    "\n",
    "```python\n",
    "# Exercise 96\n",
    "```\n",
    "\n",
    "---\n",
    "\n",
    "### Exercise 97:\n",
    "Write a Python program that finds the common keys between two dictionaries.\n",
    "\n",
    "```python\n",
    "# Exercise 97\n",
    "```\n",
    "\n",
    "---\n",
    "\n",
    "### Exercise 98:\n",
    "Write a Python function that takes a list of strings and returns a list of the strings that contain more than 5 characters.\n",
    "\n",
    "```python\n",
    "# Exercise 98\n",
    "```\n",
    "\n",
    "---\n",
    "\n",
    "### Exercise 99:\n",
    "Write a Python program that converts a list of strings into a list of tuples, where each tuple contains the string and its length.\n",
    "\n",
    "```python\n",
    "# Exercise 99\n",
    "```\n",
    "\n",
    "---\n",
    "\n",
    "### Exercise 100:\n",
    "Write a Python function that takes a list of dictionaries and returns a new dictionary by summing the values of each key across all dictionaries.\n",
    "\n",
    "```python\n",
    "# Exercise 100\n",
    "```\n",
    "\n",
    "---\n"
   ]
  },
  {
   "cell_type": "code",
   "execution_count": null,
   "metadata": {},
   "outputs": [],
   "source": []
  },
  {
   "cell_type": "code",
   "execution_count": 1,
   "id": "d5da5afe",
   "metadata": {},
   "outputs": [
    {
     "name": "stdout",
     "output_type": "stream",
     "text": [
      "[1, 2, 3, 4, 5, 6, 7, 8, 9, 10]\n"
     ]
    }
   ],
   "source": [
    "#exercice1\n",
    "ma_liste = [1, 2, 3, 4, 5, 6, 7, 8, 9, 10]\n",
    "print(ma_liste)"
   ]
  },
  {
   "cell_type": "code",
   "execution_count": 2,
   "id": "08496ee4",
   "metadata": {},
   "outputs": [
    {
     "name": "stdout",
     "output_type": "stream",
     "text": [
      "('apple', 'banana', 'cherry')\n"
     ]
    }
   ],
   "source": [
    "#exercice 2\n",
    "mon_tuple = (\"apple\", \"banana\", \"cherry\")\n",
    "print(mon_tuple)"
   ]
  },
  {
   "cell_type": "code",
   "execution_count": 3,
   "id": "1a38873a",
   "metadata": {},
   "outputs": [
    {
     "name": "stdout",
     "output_type": "stream",
     "text": [
      "(10, 20, 30, 40)\n"
     ]
    }
   ],
   "source": [
    "#exercice 3\n",
    "numbers = [10, 20, 30, 40]\n",
    "mon_tuple = tuple(numbers)\n",
    "print(mon_tuple)"
   ]
  },
  {
   "cell_type": "code",
   "execution_count": 4,
   "id": "301ea4f5",
   "metadata": {},
   "outputs": [
    {
     "name": "stdout",
     "output_type": "stream",
     "text": [
      "{1, 2, 3, 4, 5}\n"
     ]
    }
   ],
   "source": [
    "#exercice 4\n",
    "mon_set = {1, 2, 3, 4, 5}\n",
    "print(mon_set)"
   ]
  },
  {
   "cell_type": "code",
   "execution_count": 5,
   "id": "68f300bf",
   "metadata": {},
   "outputs": [
    {
     "name": "stdout",
     "output_type": "stream",
     "text": [
      "{'name': 'Alice', 'age': 20, 'grade': 'A'}\n"
     ]
    }
   ],
   "source": [
    "#exercice 5\n",
    "student = {\n",
    "    \"name\": \"Alice\",\n",
    "    \"age\": 20,\n",
    "    \"grade\": \"A\"\n",
    "}\n",
    "print(student)"
   ]
  },
  {
   "cell_type": "code",
   "execution_count": 6,
   "id": "c47bcb98",
   "metadata": {},
   "outputs": [
    {
     "name": "stdout",
     "output_type": "stream",
     "text": [
      "20\n"
     ]
    }
   ],
   "source": [
    "#exercice6\n",
    "ma_liste = [10, 20, 30, 40, 50]\n",
    "print(ma_liste[1])"
   ]
  },
  {
   "cell_type": "code",
   "execution_count": 7,
   "id": "c038176f",
   "metadata": {},
   "outputs": [
    {
     "name": "stdout",
     "output_type": "stream",
     "text": [
      "['apple', 'banana', 'mango', 'orange']\n"
     ]
    }
   ],
   "source": [
    "#exercice 7\n",
    "fruits = [\"apple\", \"banana\", \"cherry\", \"orange\"]\n",
    "fruits[2] = \"mango\"\n",
    "print(fruits)"
   ]
  },
  {
   "cell_type": "code",
   "execution_count": 8,
   "id": "858ef39f",
   "metadata": {},
   "outputs": [
    {
     "name": "stdout",
     "output_type": "stream",
     "text": [
      "{1, 2, 3, 4, 5, 6}\n"
     ]
    }
   ],
   "source": [
    "#exercice 8\n",
    "numbers = {1, 2, 3, 4, 5}\n",
    "numbers.add(6)\n",
    "print(numbers)"
   ]
  },
  {
   "cell_type": "code",
   "execution_count": 9,
   "id": "11d081f1",
   "metadata": {},
   "outputs": [
    {
     "name": "stdout",
     "output_type": "stream",
     "text": [
      "{'name': 'John', 'city': 'New York'}\n"
     ]
    }
   ],
   "source": [
    "#exercice 9\n",
    "person = {\"name\": \"John\", \"age\": 25, \"city\": \"New York\"}\n",
    "del person[\"age\"]\n",
    "print(person)"
   ]
  },
  {
   "cell_type": "code",
   "execution_count": 10,
   "id": "66693902",
   "metadata": {},
   "outputs": [
    {
     "name": "stdout",
     "output_type": "stream",
     "text": [
      "[0, 1, 2, 3, 4, 5, 6, 7, 8, 9]\n"
     ]
    }
   ],
   "source": [
    "#exercice 10\n",
    "mon_range = range(0, 10)\n",
    "print(list(mon_range))"
   ]
  },
  {
   "cell_type": "code",
   "execution_count": 11,
   "id": "de79b6a4",
   "metadata": {},
   "outputs": [
    {
     "name": "stdout",
     "output_type": "stream",
     "text": [
      "[1, 4, 9, 16, 25, 36, 49, 64, 81, 100]\n"
     ]
    }
   ],
   "source": [
    "#exercice 11\n",
    "squares = [x**2 for x in range(1, 11)]\n",
    "print(squares)"
   ]
  },
  {
   "cell_type": "code",
   "execution_count": 12,
   "id": "41df33d0",
   "metadata": {},
   "outputs": [
    {
     "name": "stdout",
     "output_type": "stream",
     "text": [
      "(2, 4, 6, 8, 10)\n"
     ]
    }
   ],
   "source": [
    "#exercice 12\n",
    "even_tuple = tuple(x for x in range(2, 11) if x % 2 == 0)\n",
    "print(even_tuple)"
   ]
  },
  {
   "cell_type": "code",
   "execution_count": 13,
   "id": "bdeee055",
   "metadata": {},
   "outputs": [
    {
     "name": "stdout",
     "output_type": "stream",
     "text": [
      "apple\n",
      "banana\n",
      "cherry\n"
     ]
    }
   ],
   "source": [
    "#exercice 13\n",
    "fruits = [\"apple\", \"banana\", \"cherry\"]\n",
    "for fruit in fruits:\n",
    "    print(fruit)"
   ]
  },
  {
   "cell_type": "code",
   "execution_count": 14,
   "id": "f1c34813",
   "metadata": {},
   "outputs": [
    {
     "name": "stdout",
     "output_type": "stream",
     "text": [
      "True\n"
     ]
    }
   ],
   "source": [
    "#exercice 14\n",
    "numbers = {1, 2, 3, 4, 5}\n",
    "resultat = 3 in numbers\n",
    "print(resultat)"
   ]
  },
  {
   "cell_type": "code",
   "execution_count": 15,
   "id": "9bb6a0b2",
   "metadata": {},
   "outputs": [
    {
     "name": "stdout",
     "output_type": "stream",
     "text": [
      "3\n"
     ]
    }
   ],
   "source": [
    "#exercice 15\n",
    "numbers = (10, 20, 30)\n",
    "longueur = len(numbers)\n",
    "print(longueur)"
   ]
  },
  {
   "cell_type": "code",
   "execution_count": 16,
   "id": "5ee7f745",
   "metadata": {},
   "outputs": [
    {
     "name": "stdout",
     "output_type": "stream",
     "text": [
      "[80, 85, 90, 95, 100]\n"
     ]
    }
   ],
   "source": [
    "#exercice 16\n",
    "scores = [80, 85, 90, 95]\n",
    "scores.append(100)\n",
    "print(scores)"
   ]
  },
  {
   "cell_type": "code",
   "execution_count": 17,
   "id": "f317a611",
   "metadata": {},
   "outputs": [
    {
     "name": "stdout",
     "output_type": "stream",
     "text": [
      "15\n"
     ]
    }
   ],
   "source": [
    "#exercice 17\n",
    "def somme_liste(ma_liste):\n",
    "    total = 0\n",
    "    for nombre in ma_liste:\n",
    "        total += nombre\n",
    "    return total\n",
    "\n",
    "resultat = somme_liste([1, 2, 3, 4, 5])\n",
    "print(resultat)"
   ]
  },
  {
   "cell_type": "code",
   "execution_count": 18,
   "id": "f26d23fb",
   "metadata": {},
   "outputs": [
    {
     "name": "stdout",
     "output_type": "stream",
     "text": [
      "{1, 2, 3, 4, 5}\n"
     ]
    }
   ],
   "source": [
    "#exercice 18\n",
    "numbers = [1, 2, 2, 3, 4, 4, 5]\n",
    "mon_set = set(numbers)\n",
    "print(mon_set)"
   ]
  },
  {
   "cell_type": "code",
   "execution_count": 19,
   "id": "ae6cc4f6",
   "metadata": {},
   "outputs": [
    {
     "name": "stdout",
     "output_type": "stream",
     "text": [
      "['h', 'e', 'l', 'l', 'o']\n"
     ]
    }
   ],
   "source": [
    "#exercice 19\n",
    "mon_mot = \"hello\"\n",
    "liste_caracteres = list(mon_mot)\n",
    "print(liste_caracteres)"
   ]
  },
  {
   "cell_type": "code",
   "execution_count": 20,
   "id": "d948fe15",
   "metadata": {},
   "outputs": [
    {
     "name": "stdout",
     "output_type": "stream",
     "text": [
      "(4, 3, 2, 1)\n"
     ]
    }
   ],
   "source": [
    "#exercice 20\n",
    "def inverser_tuple(mon_tuple):\n",
    "    return mon_tuple[::-1]\n",
    "\n",
    "resultat = inverser_tuple((1, 2, 3, 4))\n",
    "print(resultat)"
   ]
  },
  {
   "cell_type": "code",
   "execution_count": 21,
   "id": "a2b81e05",
   "metadata": {},
   "outputs": [
    {
     "name": "stdout",
     "output_type": "stream",
     "text": [
      "{'a': 1, 'b': 2, 'c': 3, 'd': 4}\n"
     ]
    }
   ],
   "source": [
    " #exercice 21\n",
    "dict1 = {\"a\": 1, \"b\": 2}\n",
    "dict2 = {\"c\": 3, \"d\": 4}\n",
    "dict_merge = {**dict1, **dict2}\n",
    "print(dict_merge)"
   ]
  },
  {
   "cell_type": "code",
   "execution_count": 22,
   "id": "9206d5aa",
   "metadata": {},
   "outputs": [
    {
     "name": "stdout",
     "output_type": "stream",
     "text": [
      "{1: 1, 2: 4, 3: 9, 4: 16, 5: 25}\n"
     ]
    }
   ],
   "source": [
    "#exercice 22\n",
    "mon_dict = {}\n",
    "for i in range(1, 6):\n",
    "    mon_dict[i] = i**2\n",
    "print(mon_dict)"
   ]
  },
  {
   "cell_type": "code",
   "execution_count": 23,
   "id": "053d1f7b",
   "metadata": {},
   "outputs": [
    {
     "name": "stdout",
     "output_type": "stream",
     "text": [
      "name : Alice\n",
      "age : 25\n",
      "city : Paris\n"
     ]
    }
   ],
   "source": [
    "#exercice 23\n",
    "mon_dict = {\"name\": \"Alice\", \"age\": 25, \"city\": \"Paris\"}\n",
    "for cle, valeur in mon_dict.items():\n",
    "    print(cle, \":\", valeur)"
   ]
  },
  {
   "cell_type": "code",
   "execution_count": 24,
   "id": "e6aa3993",
   "metadata": {},
   "outputs": [
    {
     "name": "stdout",
     "output_type": "stream",
     "text": [
      "['A', 'B', 'C', 'D', 'E']\n"
     ]
    }
   ],
   "source": [
    "#exercice 24\n",
    "alphabet = []\n",
    "for i in range(65, 70):\n",
    "    alphabet.append(chr(i))\n",
    "print(alphabet)"
   ]
  },
  {
   "cell_type": "code",
   "execution_count": 25,
   "id": "8b123eb7",
   "metadata": {},
   "outputs": [
    {
     "name": "stdout",
     "output_type": "stream",
     "text": [
      "[(1, 'a'), (2, 'b'), (3, 'c')]\n"
     ]
    }
   ],
   "source": [
    "#exercice 25\n",
    "liste1 = [1, 2, 3]\n",
    "liste2 = [\"a\", \"b\", \"c\"]\n",
    "resultat = list(zip(liste1, liste2))\n",
    "print(resultat)"
   ]
  },
  {
   "cell_type": "code",
   "execution_count": 26,
   "id": "665e7e9e",
   "metadata": {},
   "outputs": [
    {
     "name": "stdout",
     "output_type": "stream",
     "text": [
      "4\n"
     ]
    }
   ],
   "source": [
    "#exercice 26\n",
    "ma_liste = [10, 20, 30, 40, 50]\n",
    "index = ma_liste.index(50)\n",
    "print(index)"
   ]
  },
  {
   "cell_type": "code",
   "execution_count": 27,
   "id": "e4850da4",
   "metadata": {},
   "outputs": [
    {
     "name": "stdout",
     "output_type": "stream",
     "text": [
      "['Alice', 'Bob', 'Charlie', 'David']\n"
     ]
    }
   ],
   "source": [
    "#exercice 27\n",
    "names = [\"Alice\", \"Bob\", \"Charlie\", \"David\"]\n",
    "names.sort()\n",
    "print(names)"
   ]
  },
  {
   "cell_type": "code",
   "execution_count": 28,
   "id": "61c7a0b6",
   "metadata": {},
   "outputs": [
    {
     "name": "stdout",
     "output_type": "stream",
     "text": [
      "9\n"
     ]
    }
   ],
   "source": [
    "#exercice 28\n",
    "def plus_grand(ma_liste):\n",
    "    return max(ma_liste)\n",
    "\n",
    "resultat = plus_grand([3, 5, 2, 9, 1])\n",
    "print(resultat)"
   ]
  },
  {
   "cell_type": "code",
   "execution_count": 29,
   "id": "30b90fc6",
   "metadata": {},
   "outputs": [
    {
     "name": "stdout",
     "output_type": "stream",
     "text": [
      "2\n"
     ]
    }
   ],
   "source": [
    "#exercice 29\n",
    "fruits = [\"apple\", \"banana\", \"apple\", \"orange\"]\n",
    "nombre = fruits.count(\"apple\")\n",
    "print(nombre)"
   ]
  },
  {
   "cell_type": "code",
   "execution_count": 30,
   "id": "557c00ab",
   "metadata": {},
   "outputs": [
    {
     "name": "stdout",
     "output_type": "stream",
     "text": [
      "New York\n"
     ]
    }
   ],
   "source": [
    "#exercice 30\n",
    "person = {\"name\": \"Alice\", \"age\": 25, \"city\": \"New York\"}\n",
    "ville = person[\"city\"]\n",
    "print(ville)"
   ]
  },
  {
   "cell_type": "code",
   "execution_count": 31,
   "id": "a5415417",
   "metadata": {},
   "outputs": [
    {
     "name": "stdout",
     "output_type": "stream",
     "text": [
      "[1, 2, 3, 4, 5]\n"
     ]
    }
   ],
   "source": [
    "#exercice 31\n",
    "def enlever_doublons(ma_liste):\n",
    "    resultat = []\n",
    "    for element in ma_liste:\n",
    "        if element not in resultat:\n",
    "            resultat.append(element)\n",
    "    return resultat\n",
    "\n",
    "resultat = enlever_doublons([1, 2, 2, 3, 4, 4, 5])\n",
    "print(resultat)"
   ]
  },
  {
   "cell_type": "code",
   "execution_count": 32,
   "id": "49a939d1",
   "metadata": {},
   "outputs": [
    {
     "name": "stdout",
     "output_type": "stream",
     "text": [
      "[2, 3]\n"
     ]
    }
   ],
   "source": [
    "#exercice 32\n",
    "def intersection(liste1, liste2):\n",
    "    resultat = []\n",
    "    for element in liste1:\n",
    "        if element in liste2:\n",
    "            resultat.append(element)\n",
    "    return resultat\n",
    "\n",
    "resultat = intersection([1, 2, 3], [2, 3, 4])\n",
    "print(resultat)"
   ]
  },
  {
   "cell_type": "code",
   "execution_count": 33,
   "id": "7719d577",
   "metadata": {},
   "outputs": [
    {
     "name": "stdout",
     "output_type": "stream",
     "text": [
      "1\n",
      "4\n",
      "9\n",
      "16\n",
      "25\n",
      "36\n",
      "49\n",
      "64\n",
      "81\n",
      "100\n"
     ]
    }
   ],
   "source": [
    "#exercice 33\n",
    "def carres():\n",
    "    for i in range(1, 11):\n",
    "        yield i**2\n",
    "\n",
    "for carre in carres():\n",
    "    print(carre)"
   ]
  },
  {
   "cell_type": "code",
   "execution_count": 34,
   "id": "1df2ac10",
   "metadata": {},
   "outputs": [
    {
     "name": "stdout",
     "output_type": "stream",
     "text": [
      "6\n"
     ]
    }
   ],
   "source": [
    "#exercice 34\n",
    "def somme_valeurs(mon_dict):\n",
    "    total = 0\n",
    "    for valeur in mon_dict.values():\n",
    "        total += valeur\n",
    "    return total\n",
    "\n",
    "resultat = somme_valeurs({\"a\": 1, \"b\": 2, \"c\": 3})\n",
    "print(resultat)"
   ]
  },
  {
   "cell_type": "code",
   "execution_count": 35,
   "id": "db52c697",
   "metadata": {},
   "outputs": [
    {
     "name": "stdout",
     "output_type": "stream",
     "text": [
      "[1, 1, 3, 4, 5, 9]\n"
     ]
    }
   ],
   "source": [
    "#exercice35\n",
    "ma_liste = [3, 1, 4, 1, 5, 9]\n",
    "trie = sorted(ma_liste)\n",
    "print(trie)"
   ]
  },
  {
   "cell_type": "code",
   "execution_count": 36,
   "id": "6372d79f",
   "metadata": {},
   "outputs": [
    {
     "name": "stdout",
     "output_type": "stream",
     "text": [
      "abc\n"
     ]
    }
   ],
   "source": [
    "#exercice 36\n",
    "def plus_longue_string(ma_liste):\n",
    "    plus_longue = \"\"\n",
    "    for string in ma_liste:\n",
    "        if len(string) > len(plus_longue):\n",
    "            plus_longue = string\n",
    "    return plus_longue\n",
    "\n",
    "resultat = plus_longue_string([\"a\", \"ab\", \"abc\", \"ab\"])\n",
    "print(resultat)"
   ]
  },
  {
   "cell_type": "code",
   "execution_count": 37,
   "id": "50e3dc5f",
   "metadata": {},
   "outputs": [
    {
     "name": "stdout",
     "output_type": "stream",
     "text": [
      "True\n"
     ]
    }
   ],
   "source": [
    "#exercice 37\n",
    "ma_liste = [1, 2, 3, 4, 5]\n",
    "resultat = all(x > 0 for x in ma_liste)\n",
    "print(resultat)"
   ]
  },
  {
   "cell_type": "code",
   "execution_count": 38,
   "id": "181daa4c",
   "metadata": {},
   "outputs": [
    {
     "name": "stdout",
     "output_type": "stream",
     "text": [
      "[(1, 1), (2, 4), (3, 9), (4, 16), (5, 25)]\n"
     ]
    }
   ],
   "source": [
    "#exercice38\n",
    "liste_tuples = []\n",
    "for i in range(1, 6):\n",
    "    liste_tuples.append((i, i**2))\n",
    "print(liste_tuples)"
   ]
  },
  {
   "cell_type": "code",
   "execution_count": 39,
   "id": "754d6062",
   "metadata": {},
   "outputs": [
    {
     "name": "stdout",
     "output_type": "stream",
     "text": [
      "[2, 4, 6]\n"
     ]
    }
   ],
   "source": [
    "#exercice 39\n",
    "def deuxieme_elements(ma_liste):\n",
    "    resultat = []\n",
    "    for tuple in ma_liste:\n",
    "        resultat.append(tuple[1])\n",
    "    return resultat\n",
    "\n",
    "resultat = deuxieme_elements([(1, 2), (3, 4), (5, 6)])\n",
    "print(resultat)"
   ]
  },
  {
   "cell_type": "code",
   "execution_count": 40,
   "id": "c2c4496c",
   "metadata": {},
   "outputs": [
    {
     "name": "stdout",
     "output_type": "stream",
     "text": [
      "[1, 2, 3, 4, 5, 6]\n"
     ]
    }
   ],
   "source": [
    "#exercice 40\n",
    "def aplatir(ma_liste):\n",
    "    resultat = []\n",
    "    for sous_liste in ma_liste:\n",
    "        for element in sous_liste:\n",
    "            resultat.append(element)\n",
    "    return resultat\n",
    "\n",
    "resultat = aplatir([[1, 2], [3, 4], [5, 6]])\n",
    "print(resultat)"
   ]
  },
  {
   "cell_type": "code",
   "execution_count": 41,
   "id": "277f49be",
   "metadata": {},
   "outputs": [
    {
     "name": "stdout",
     "output_type": "stream",
     "text": [
      "0 apple\n",
      "1 banana\n",
      "2 cherry\n"
     ]
    }
   ],
   "source": [
    "#exercice 41\n",
    "fruits = [\"apple\", \"banana\", \"cherry\"]\n",
    "for index, valeur in enumerate(fruits):\n",
    "    print(index, valeur)"
   ]
  },
  {
   "cell_type": "code",
   "execution_count": 42,
   "id": "ed3c2ae5",
   "metadata": {},
   "outputs": [
    {
     "name": "stdout",
     "output_type": "stream",
     "text": [
      "Le tuple est vide\n"
     ]
    }
   ],
   "source": [
    "#exercice 42\n",
    "mon_tuple = ()\n",
    "if len(mon_tuple) == 0:\n",
    "    print(\"Le tuple est vide\")\n",
    "else:\n",
    "    print(\"Le tuple n'est pas vide\")"
   ]
  },
  {
   "cell_type": "code",
   "execution_count": 43,
   "id": "8d6353ed",
   "metadata": {},
   "outputs": [
    {
     "name": "stdout",
     "output_type": "stream",
     "text": [
      "[2, 4, 6, 8, 10, 12, 14, 16, 18, 20]\n"
     ]
    }
   ],
   "source": [
    "#exercice 43\n",
    "pairs = list(range(2, 21, 2))\n",
    "print(pairs)"
   ]
  },
  {
   "cell_type": "code",
   "execution_count": 44,
   "id": "528e4dd2",
   "metadata": {},
   "outputs": [
    {
     "name": "stdout",
     "output_type": "stream",
     "text": [
      "[5, 4, 3, 2, 1]\n"
     ]
    }
   ],
   "source": [
    "#exercice 44\n",
    "def inverser(ma_liste):\n",
    "    resultat = []\n",
    "    for i in range(len(ma_liste)-1, -1, -1):\n",
    "        resultat.append(ma_liste[i])\n",
    "    return resultat\n",
    "\n",
    "resultat = inverser([1, 2, 3, 4, 5])\n",
    "print(resultat)"
   ]
  },
  {
   "cell_type": "code",
   "execution_count": 45,
   "id": "c567c891",
   "metadata": {},
   "outputs": [
    {
     "name": "stdout",
     "output_type": "stream",
     "text": [
      "{1: 1, 2: 8, 3: 27, 4: 64, 5: 125}\n"
     ]
    }
   ],
   "source": [
    "#exercice 45\n",
    "mon_dict = {i: i**3 for i in range(1, 6)}\n",
    "print(mon_dict)"
   ]
  },
  {
   "cell_type": "code",
   "execution_count": 46,
   "id": "ec318128",
   "metadata": {},
   "outputs": [
    {
     "name": "stdout",
     "output_type": "stream",
     "text": [
      "[1, 2, 3, 4, 5]\n"
     ]
    }
   ],
   "source": [
    "#exercice 46\n",
    "ma_liste = [1, 2, 2, 3, 4, 4, 5]\n",
    "unique = []\n",
    "for element in ma_liste:\n",
    "    if element not in unique:\n",
    "        unique.append(element)\n",
    "print(unique)"
   ]
  },
  {
   "cell_type": "code",
   "execution_count": 47,
   "id": "10dfb78a",
   "metadata": {},
   "outputs": [
    {
     "name": "stdout",
     "output_type": "stream",
     "text": [
      "[1, 2]\n"
     ]
    }
   ],
   "source": [
    "#exercice 47\n",
    "def valeurs_cle(liste_dicts, cle):\n",
    "    resultat = []\n",
    "    for dictionnaire in liste_dicts:\n",
    "        resultat.append(dictionnaire[cle])\n",
    "    return resultat\n",
    "\n",
    "resultat = valeurs_cle([{\"a\": 1}, {\"a\": 2}], \"a\")\n",
    "print(resultat)"
   ]
  },
  {
   "cell_type": "code",
   "execution_count": 48,
   "id": "8c77aa59",
   "metadata": {},
   "outputs": [
    {
     "name": "stdout",
     "output_type": "stream",
     "text": [
      "0\n",
      "1\n",
      "1\n",
      "2\n",
      "3\n",
      "5\n",
      "8\n",
      "13\n",
      "21\n",
      "34\n"
     ]
    }
   ],
   "source": [
    "#exercice 48\n",
    "def fibonacci(n):\n",
    "    a, b = 0, 1\n",
    "    compteur = 0\n",
    "    while compteur < n:\n",
    "        yield a\n",
    "        a, b = b, a + b\n",
    "        compteur += 1\n",
    "\n",
    "for nombre in fibonacci(10):\n",
    "    print(nombre)"
   ]
  },
  {
   "cell_type": "code",
   "execution_count": 49,
   "id": "580dba86",
   "metadata": {},
   "outputs": [
    {
     "name": "stdout",
     "output_type": "stream",
     "text": [
      "['h', 'e', 'l', 'o']\n"
     ]
    }
   ],
   "source": [
    "#exercice 49\n",
    "def caracteres_uniques(mon_string):\n",
    "    resultat = []\n",
    "    for caractere in mon_string:\n",
    "        if caractere not in resultat:\n",
    "            resultat.append(caractere)\n",
    "    return resultat\n",
    "\n",
    "resultat = caracteres_uniques(\"hello\")\n",
    "print(resultat)"
   ]
  },
  {
   "cell_type": "code",
   "execution_count": 50,
   "id": "8d73cd4e",
   "metadata": {},
   "outputs": [
    {
     "name": "stdout",
     "output_type": "stream",
     "text": [
      "[1, 2, 3, 4, 5, 6]\n"
     ]
    }
   ],
   "source": [
    "#exercice 50\n",
    "def fusionner_triees(liste1, liste2):\n",
    "    resultat = []\n",
    "    i, j = 0, 0\n",
    "    while i < len(liste1) and j < len(liste2):\n",
    "        if liste1[i] < liste2[j]:\n",
    "            resultat.append(liste1[i])\n",
    "            i += 1\n",
    "        else:\n",
    "            resultat.append(liste2[j])\n",
    "            j += 1\n",
    "    resultat.extend(liste1[i:])\n",
    "    resultat.extend(liste2[j:])\n",
    "    return resultat\n",
    "\n",
    "resultat = fusionner_triees([1, 3, 5], [2, 4, 6])\n",
    "print(resultat)"
   ]
  },
  {
   "cell_type": "code",
   "execution_count": 51,
   "id": "261f4140",
   "metadata": {},
   "outputs": [
    {
     "name": "stdout",
     "output_type": "stream",
     "text": [
      "[2, 4, 6]\n"
     ]
    }
   ],
   "source": [
    "#exercice 51\n",
    "ma_liste = [1, 2, 3, 4, 5, 6]\n",
    "pairs = list(filter(lambda x: x % 2 == 0, ma_liste))\n",
    "print(pairs)"
   ]
  },
  {
   "cell_type": "code",
   "execution_count": 52,
   "id": "71242cb8",
   "metadata": {},
   "outputs": [
    {
     "name": "stdout",
     "output_type": "stream",
     "text": [
      "{1: 2, 3: 4, 5: 6}\n"
     ]
    }
   ],
   "source": [
    "#exercice 52\n",
    "liste_tuples = [(1, 2), (3, 4), (5, 6)]\n",
    "mon_dict = dict(liste_tuples)\n",
    "print(mon_dict)"
   ]
  },
  {
   "cell_type": "code",
   "execution_count": 53,
   "id": "021ba0cb",
   "metadata": {},
   "outputs": [
    {
     "name": "stdout",
     "output_type": "stream",
     "text": [
      "{1, 2, 4, 5}\n"
     ]
    }
   ],
   "source": [
    "#exercice 53\n",
    "def difference_symetrique(set1, set2):\n",
    "    return set1 ^ set2\n",
    "\n",
    "resultat = difference_symetrique({1, 2, 3}, {3, 4, 5})\n",
    "print(resultat)"
   ]
  },
  {
   "cell_type": "code",
   "execution_count": 54,
   "id": "3eece072",
   "metadata": {},
   "outputs": [
    {
     "name": "stdout",
     "output_type": "stream",
     "text": [
      "[3, 4]\n"
     ]
    }
   ],
   "source": [
    "#exercice 54\n",
    "list1 = [1, 2, 3, 4]\n",
    "list2 = [2, 3, 4, 5]\n",
    "list3 = [3, 4, 5, 6]\n",
    "commun = []\n",
    "for element in list1:\n",
    "    if element in list2 and element in list3:\n",
    "        commun.append(element)\n",
    "print(commun)"
   ]
  },
  {
   "cell_type": "code",
   "execution_count": 55,
   "id": "ef161c6e",
   "metadata": {},
   "outputs": [
    {
     "name": "stdout",
     "output_type": "stream",
     "text": [
      "120\n"
     ]
    }
   ],
   "source": [
    "#exercice 55\n",
    "def factorielle(n):\n",
    "    if n == 0 or n == 1:\n",
    "        return 1\n",
    "    else:\n",
    "        return n * factorielle(n-1)\n",
    "\n",
    "resultat = factorielle(5)\n",
    "print(resultat)"
   ]
  },
  {
   "cell_type": "code",
   "execution_count": 56,
   "id": "ce3e6599",
   "metadata": {},
   "outputs": [
    {
     "name": "stdout",
     "output_type": "stream",
     "text": [
      "['apple', 'banana', 'cherry']\n"
     ]
    }
   ],
   "source": [
    "#exercice 56\n",
    "ma_liste = [\"apple\", \"\", \"banana\", \"\", \"cherry\"]\n",
    "resultat = [element for element in ma_liste if element != \"\"]\n",
    "print(resultat)"
   ]
  },
  {
   "cell_type": "code",
   "execution_count": 57,
   "id": "010636fe",
   "metadata": {},
   "outputs": [
    {
     "name": "stdout",
     "output_type": "stream",
     "text": [
      "{1: 'a', 2: 'b'}\n"
     ]
    }
   ],
   "source": [
    "#exercice 57\n",
    "def inverser_dict(mon_dict):\n",
    "    nouveau_dict = {}\n",
    "    for cle, valeur in mon_dict.items():\n",
    "        nouveau_dict[valeur] = cle\n",
    "    return nouveau_dict\n",
    "\n",
    "resultat = inverser_dict({\"a\": 1, \"b\": 2})\n",
    "print(resultat)"
   ]
  },
  {
   "cell_type": "code",
   "execution_count": 58,
   "id": "d3a99fcf",
   "metadata": {},
   "outputs": [
    {
     "name": "stdout",
     "output_type": "stream",
     "text": [
      "[2, 4, 6]\n"
     ]
    }
   ],
   "source": [
    " #exercice 58\n",
    "def nombres_pairs(ma_liste):\n",
    "    resultat = []\n",
    "    for nombre in ma_liste:\n",
    "        if nombre % 2 == 0:\n",
    "            resultat.append(nombre)\n",
    "    return resultat\n",
    "\n",
    "resultat = nombres_pairs([1, 2, 3, 4, 5, 6])\n",
    "print(resultat)"
   ]
  },
  {
   "cell_type": "code",
   "execution_count": 59,
   "id": "a9e3fd37",
   "metadata": {},
   "outputs": [
    {
     "name": "stdout",
     "output_type": "stream",
     "text": [
      "[1, 3, 5]\n"
     ]
    }
   ],
   "source": [
    "#exercice 59\n",
    "def premiers_elements(ma_liste):\n",
    "    resultat = []\n",
    "    for tuple in ma_liste:\n",
    "        resultat.append(tuple[0])\n",
    "    return resultat\n",
    "\n",
    "resultat = premiers_elements([(1, 2), (3, 4), (5, 6)])\n",
    "print(resultat)"
   ]
  },
  {
   "cell_type": "code",
   "execution_count": 60,
   "id": "3d47d0b9",
   "metadata": {},
   "outputs": [
    {
     "name": "stdout",
     "output_type": "stream",
     "text": [
      "[1, 2, 3, 4, 5]\n"
     ]
    }
   ],
   "source": [
    "#exercice 60\n",
    "ma_liste = [1, 2, 2, 3, 4, 4, 5]\n",
    "resultat = []\n",
    "for element in ma_liste:\n",
    "    if element not in resultat:\n",
    "        resultat.append(element)\n",
    "print(resultat)"
   ]
  },
  {
   "cell_type": "code",
   "execution_count": 61,
   "id": "553dd1ab",
   "metadata": {},
   "outputs": [
    {
     "name": "stdout",
     "output_type": "stream",
     "text": [
      "[5, 6, 6]\n"
     ]
    }
   ],
   "source": [
    "#exercice 61\n",
    "ma_liste = [\"apple\", \"banana\", \"cherry\"]\n",
    "longueurs = list(map(len, ma_liste))\n",
    "print(longueurs)"
   ]
  },
  {
   "cell_type": "code",
   "execution_count": 62,
   "id": "ace3d967",
   "metadata": {},
   "outputs": [
    {
     "name": "stdout",
     "output_type": "stream",
     "text": [
      "30.0\n"
     ]
    }
   ],
   "source": [
    "#exercice 62\n",
    "ma_liste = [10, 20, 30, 40, 50]\n",
    "moyenne = sum(ma_liste) / len(ma_liste)\n",
    "print(moyenne)"
   ]
  },
  {
   "cell_type": "code",
   "execution_count": 63,
   "id": "cda01a40",
   "metadata": {},
   "outputs": [
    {
     "name": "stdout",
     "output_type": "stream",
     "text": [
      "[0, 1, 1, 2, 3, 5, 8, 13, 21, 34]\n"
     ]
    }
   ],
   "source": [
    "#exercice 63\n",
    "def fibonacci_liste(n):\n",
    "    resultat = []\n",
    "    a, b = 0, 1\n",
    "    for _ in range(n):\n",
    "        resultat.append(a)\n",
    "        a, b = b, a + b\n",
    "    return resultat\n",
    "\n",
    "resultat = fibonacci_liste(10)\n",
    "print(resultat)"
   ]
  },
  {
   "cell_type": "code",
   "execution_count": 64,
   "id": "44339f07",
   "metadata": {},
   "outputs": [
    {
     "name": "stdout",
     "output_type": "stream",
     "text": [
      "{'apple': 2, 'banana': 1, 'cherry': 1}\n"
     ]
    }
   ],
   "source": [
    "#exercice 64\n",
    "ma_liste = [\"apple\", \"banana\", \"apple\", \"cherry\"]\n",
    "compteur = {}\n",
    "for element in ma_liste:\n",
    "    compteur[element] = compteur.get(element, 0) + 1\n",
    "print(compteur)"
   ]
  },
  {
   "cell_type": "code",
   "execution_count": 65,
   "id": "4b591078",
   "metadata": {},
   "outputs": [
    {
     "name": "stdout",
     "output_type": "stream",
     "text": [
      "[1, 3, 4, 5]\n"
     ]
    }
   ],
   "source": [
    "#exercice 65\n",
    "ma_liste = [1, 2, 3, 2, 4, 2, 5]\n",
    "valeur = 2\n",
    "resultat = [element for element in ma_liste if element != valeur]\n",
    "print(resultat)"
   ]
  },
  {
   "cell_type": "code",
   "execution_count": 66,
   "id": "4784a388",
   "metadata": {},
   "outputs": [
    {
     "name": "stdout",
     "output_type": "stream",
     "text": [
      "['apple', 'orange']\n"
     ]
    }
   ],
   "source": [
    "#exercice 66\n",
    "def commence_par_voyelle(ma_liste):\n",
    "    voyelles = \"aeiouAEIOU\"\n",
    "    resultat = []\n",
    "    for string in ma_liste:\n",
    "        if string and string[0] in voyelles:\n",
    "            resultat.append(string)\n",
    "    return resultat\n",
    "\n",
    "resultat = commence_par_voyelle([\"apple\", \"banana\", \"orange\", \"pear\"])\n",
    "print(resultat)"
   ]
  },
  {
   "cell_type": "code",
   "execution_count": 67,
   "id": "92329ad7",
   "metadata": {},
   "outputs": [
    {
     "name": "stdout",
     "output_type": "stream",
     "text": [
      "{3, 4}\n"
     ]
    }
   ],
   "source": [
    "#exercice 67\n",
    "set1 = {1, 2, 3, 4}\n",
    "set2 = {3, 4, 5, 6}\n",
    "intersection = set1 & set2\n",
    "print(intersection)"
   ]
  },
  {
   "cell_type": "code",
   "execution_count": 68,
   "id": "065e0152",
   "metadata": {},
   "outputs": [
    {
     "name": "stdout",
     "output_type": "stream",
     "text": [
      "[1, 2, 3, 4, 5, 6]\n"
     ]
    }
   ],
   "source": [
    "#exercice 68\n",
    "def aplatir_recursif(ma_liste):\n",
    "    resultat = []\n",
    "    for element in ma_liste:\n",
    "        if isinstance(element, list):\n",
    "            resultat.extend(aplatir_recursif(element))\n",
    "        else:\n",
    "            resultat.append(element)\n",
    "    return resultat\n",
    "\n",
    "resultat = aplatir_recursif([[1, 2], [3, [4, 5]], 6])\n",
    "print(resultat)"
   ]
  },
  {
   "cell_type": "code",
   "execution_count": 69,
   "id": "016ec9df",
   "metadata": {},
   "outputs": [
    {
     "name": "stdout",
     "output_type": "stream",
     "text": [
      "True\n"
     ]
    }
   ],
   "source": [
    "#exercice 69\n",
    "def tous_uniques(ma_liste):\n",
    "    return len(ma_liste) == len(set(ma_liste))\n",
    "\n",
    "resultat = tous_uniques([1, 2, 3, 4, 5])\n",
    "print(resultat)"
   ]
  },
  {
   "cell_type": "code",
   "execution_count": 70,
   "id": "defe59ef",
   "metadata": {},
   "outputs": [
    {
     "name": "stdout",
     "output_type": "stream",
     "text": [
      "120\n"
     ]
    }
   ],
   "source": [
    "#exercice 70\n",
    "from functools import reduce\n",
    "ma_liste = [1, 2, 3, 4, 5]\n",
    "produit = reduce(lambda x, y: x * y, ma_liste)\n",
    "print(produit)"
   ]
  },
  {
   "cell_type": "code",
   "execution_count": 71,
   "id": "fd67cc80",
   "metadata": {},
   "outputs": [
    {
     "name": "stdout",
     "output_type": "stream",
     "text": [
      "{'apple': 5, 'banana': 6, 'cherry': 6}\n"
     ]
    }
   ],
   "source": [
    "#exercice 71\n",
    "def string_longueurs(ma_liste):\n",
    "    resultat = {}\n",
    "    for string in ma_liste:\n",
    "        resultat[string] = len(string)\n",
    "    return resultat\n",
    "\n",
    "resultat = string_longueurs([\"apple\", \"banana\", \"cherry\"])\n",
    "print(resultat)"
   ]
  },
  {
   "cell_type": "code",
   "execution_count": 72,
   "id": "4f6da78f",
   "metadata": {},
   "outputs": [
    {
     "name": "stdout",
     "output_type": "stream",
     "text": [
      "3\n"
     ]
    }
   ],
   "source": [
    "#exercice 72\n",
    "mon_string = \"hello world\"\n",
    "voyelles = \"aeiouAEIOU\"\n",
    "compteur = 0\n",
    "for caractere in mon_string:\n",
    "    if caractere in voyelles:\n",
    "        compteur += 1\n",
    "print(compteur)"
   ]
  },
  {
   "cell_type": "code",
   "execution_count": 73,
   "id": "2688f41d",
   "metadata": {},
   "outputs": [
    {
     "name": "stdout",
     "output_type": "stream",
     "text": [
      "[(1, 1), (2, 2), (3, 6), (4, 24), (5, 120)]\n"
     ]
    }
   ],
   "source": [
    " #exercice 73\n",
    "def factorielle(n):\n",
    "    if n == 0 or n == 1:\n",
    "        return 1\n",
    "    return n * factorielle(n-1)\n",
    "\n",
    "liste_tuples = []\n",
    "for i in range(1, 6):\n",
    "    liste_tuples.append((i, factorielle(i)))\n",
    "print(liste_tuples)"
   ]
  },
  {
   "cell_type": "code",
   "execution_count": 74,
   "id": "601f43e6",
   "metadata": {},
   "outputs": [
    {
     "name": "stdout",
     "output_type": "stream",
     "text": [
      "{'a': 1, 'b': 2, 'c': 3}\n"
     ]
    }
   ],
   "source": [
    "#exercice 74\n",
    "liste_dicts = [{\"a\": 1}, {\"b\": 2}, {\"c\": 3}]\n",
    "resultat = {}\n",
    "for dictionnaire in liste_dicts:\n",
    "    resultat.update(dictionnaire)\n",
    "print(resultat)"
   ]
  },
  {
   "cell_type": "code",
   "execution_count": 75,
   "id": "28d32ae0",
   "metadata": {},
   "outputs": [
    {
     "name": "stdout",
     "output_type": "stream",
     "text": [
      "True\n"
     ]
    }
   ],
   "source": [
    "#exercice 75\n",
    "def est_sous_ensemble(set1, set2):\n",
    "    return set1.issubset(set2)\n",
    "\n",
    "resultat = est_sous_ensemble({1, 2}, {1, 2, 3})\n",
    "print(resultat)"
   ]
  },
  {
   "cell_type": "code",
   "execution_count": 76,
   "id": "781306e0",
   "metadata": {},
   "outputs": [
    {
     "name": "stdout",
     "output_type": "stream",
     "text": [
      "[(2, 1), (3, 2), (1, 3)]\n"
     ]
    }
   ],
   "source": [
    "#exercice 76\n",
    "liste_tuples = [(1, 3), (2, 1), (3, 2)]\n",
    "trie = sorted(liste_tuples, key=lambda x: x[1])\n",
    "print(trie)"
   ]
  },
  {
   "cell_type": "code",
   "execution_count": 77,
   "id": "9c7ef14c",
   "metadata": {},
   "outputs": [
    {
     "name": "stdout",
     "output_type": "stream",
     "text": [
      "[2, 4, 6]\n"
     ]
    }
   ],
   "source": [
    "#exercice 77\n",
    "def nombres_positifs(ma_liste):\n",
    "    resultat = []\n",
    "    for nombre in ma_liste:\n",
    "        if nombre > 0:\n",
    "            resultat.append(nombre)\n",
    "    return resultat\n",
    "\n",
    "resultat = nombres_positifs([-1, 2, -3, 4, -5, 6])\n",
    "print(resultat)"
   ]
  },
  {
   "cell_type": "code",
   "execution_count": 78,
   "id": "213e319e",
   "metadata": {},
   "outputs": [
    {
     "name": "stdout",
     "output_type": "stream",
     "text": [
      "{1, 2, 3, 4, 5}\n"
     ]
    }
   ],
   "source": [
    " #exercice 78\n",
    "def union_sets(set1, set2):\n",
    "    return set1 | set2\n",
    "\n",
    "resultat = union_sets({1, 2, 3}, {3, 4, 5})\n",
    "print(resultat)"
   ]
  },
  {
   "cell_type": "code",
   "execution_count": 79,
   "id": "f47691a1",
   "metadata": {},
   "outputs": [
    {
     "name": "stdout",
     "output_type": "stream",
     "text": [
      "24\n"
     ]
    }
   ],
   "source": [
    "#exercice 79\n",
    "def produit(ma_liste):\n",
    "    resultat = 1\n",
    "    for nombre in ma_liste:\n",
    "        resultat *= nombre\n",
    "    return resultat\n",
    "\n",
    "resultat = produit([1, 2, 3, 4])\n",
    "print(resultat)"
   ]
  },
  {
   "cell_type": "code",
   "execution_count": 80,
   "id": "f60ef53c",
   "metadata": {},
   "outputs": [
    {
     "name": "stdout",
     "output_type": "stream",
     "text": [
      "hello\n"
     ]
    }
   ],
   "source": [
    "#exercice 80 \n",
    "ma_liste = ['h', 'e', 'l', 'l', 'o']\n",
    "mon_string = ''.join(ma_liste)\n",
    "print(mon_string)"
   ]
  },
  {
   "cell_type": "code",
   "execution_count": 81,
   "id": "f1a31130",
   "metadata": {},
   "outputs": [
    {
     "name": "stdout",
     "output_type": "stream",
     "text": [
      "40\n"
     ]
    }
   ],
   "source": [
    "#exercice 81\n",
    "ma_liste = [10, 20, 30, 40, 50]\n",
    "trie = sorted(ma_liste)\n",
    "second_largest = trie[-2]\n",
    "print(second_largest)"
   ]
  },
  {
   "cell_type": "code",
   "execution_count": 82,
   "id": "6e4ddcdb",
   "metadata": {},
   "outputs": [
    {
     "name": "stdout",
     "output_type": "stream",
     "text": [
      "['a', 'b', 'c']\n"
     ]
    }
   ],
   "source": [
    "#exercice 82\n",
    "def cles_triees(mon_dict):\n",
    "    return sorted(mon_dict.keys())\n",
    "\n",
    "resultat = cles_triees({\"c\": 1, \"a\": 2, \"b\": 3})\n",
    "print(resultat)"
   ]
  },
  {
   "cell_type": "code",
   "execution_count": 83,
   "id": "d655d2e9",
   "metadata": {},
   "outputs": [
    {
     "name": "stdout",
     "output_type": "stream",
     "text": [
      "3\n"
     ]
    }
   ],
   "source": [
    "#exercice 83\n",
    "ma_liste = [1, 2, 2, 3, 3, 3, 4]\n",
    "compteur = {}\n",
    "for element in ma_liste:\n",
    "    compteur[element] = compteur.get(element, 0) + 1\n",
    "most_common = max(compteur, key=compteur.get)\n",
    "print(most_common)"
   ]
  },
  {
   "cell_type": "code",
   "execution_count": 84,
   "id": "03cad5ce",
   "metadata": {},
   "outputs": [
    {
     "name": "stdout",
     "output_type": "stream",
     "text": [
      "[(1, 2), (2, 3), (3, 1)]\n"
     ]
    }
   ],
   "source": [
    " #exercice 84\n",
    "def trier_par_premier(ma_liste):\n",
    "    return sorted(ma_liste, key=lambda x: x[0])\n",
    "\n",
    "resultat = trier_par_premier([(3, 1), (1, 2), (2, 3)])\n",
    "print(resultat)"
   ]
  },
  {
   "cell_type": "code",
   "execution_count": 85,
   "id": "468513b6",
   "metadata": {},
   "outputs": [
    {
     "name": "stdout",
     "output_type": "stream",
     "text": [
      "[{'a': 1}, {'b': 2}]\n"
     ]
    }
   ],
   "source": [
    "#exercice 85\n",
    "liste_dicts = [{\"a\": 1}, {\"a\": 1}, {\"b\": 2}]\n",
    "resultat = []\n",
    "for dictionnaire in liste_dicts:\n",
    "    if dictionnaire not in resultat:\n",
    "        resultat.append(dictionnaire)\n",
    "print(resultat)"
   ]
  },
  {
   "cell_type": "code",
   "execution_count": 86,
   "id": "ca3a6147",
   "metadata": {},
   "outputs": [
    {
     "name": "stdout",
     "output_type": "stream",
     "text": [
      "(1, 5)\n"
     ]
    }
   ],
   "source": [
    "#exercice 86\n",
    "def min_max(ma_liste):\n",
    "    return min(ma_liste), max(ma_liste)\n",
    "\n",
    "resultat = min_max([1, 2, 3, 4, 5])\n",
    "print(resultat)"
   ]
  },
  {
   "cell_type": "code",
   "execution_count": 87,
   "id": "fee5e145",
   "metadata": {},
   "outputs": [],
   "source": [
    "#exercice 87"
   ]
  },
  {
   "cell_type": "code",
   "execution_count": 88,
   "id": "39158154",
   "metadata": {},
   "outputs": [
    {
     "name": "stdout",
     "output_type": "stream",
     "text": [
      "['cba', 'fed', 'ihg']\n"
     ]
    }
   ],
   "source": [
    "#exercice 88\n",
    "def inverser_strings(ma_liste):\n",
    "    resultat = []\n",
    "    for string in ma_liste:\n",
    "        resultat.append(string[::-1])\n",
    "    return resultat\n",
    "\n",
    "resultat = inverser_strings([\"abc\", \"def\", \"ghi\"])\n",
    "print(resultat)"
   ]
  },
  {
   "cell_type": "code",
   "execution_count": 89,
   "id": "91a6aae9",
   "metadata": {},
   "outputs": [
    {
     "name": "stdout",
     "output_type": "stream",
     "text": [
      "9\n"
     ]
    }
   ],
   "source": [
    "#exercice 89\n",
    "def somme_impairs(ma_liste):\n",
    "    total = 0\n",
    "    for nombre in ma_liste:\n",
    "        if nombre % 2 != 0:\n",
    "            total += nombre\n",
    "    return total\n",
    "\n",
    "resultat = somme_impairs([1, 2, 3, 4, 5])\n",
    "print(resultat)"
   ]
  },
  {
   "cell_type": "code",
   "execution_count": 90,
   "id": "a4e1adce",
   "metadata": {},
   "outputs": [
    {
     "name": "stdout",
     "output_type": "stream",
     "text": [
      "True\n"
     ]
    }
   ],
   "source": [
    "#exercice 90\n",
    "def est_palindrome(mon_string):\n",
    "    return mon_string == mon_string[::-1]\n",
    "\n",
    "resultat = est_palindrome(\"racecar\")\n",
    "print(resultat)"
   ]
  },
  {
   "cell_type": "code",
   "execution_count": 91,
   "id": "46a98bcd",
   "metadata": {},
   "outputs": [
    {
     "name": "stdout",
     "output_type": "stream",
     "text": [
      "3\n"
     ]
    }
   ],
   "source": [
    "#exercice 91\n",
    "def mediane(ma_liste):\n",
    "    trie = sorted(ma_liste)\n",
    "    n = len(trie)\n",
    "    if n % 2 == 0:\n",
    "        return (trie[n//2-1] + trie[n//2]) / 2\n",
    "    else:\n",
    "        return trie[n//2]\n",
    "\n",
    "resultat = mediane([1, 2, 3, 4, 5])\n",
    "print(resultat)"
   ]
  },
  {
   "cell_type": "code",
   "execution_count": 92,
   "id": "c1fb6d68",
   "metadata": {},
   "outputs": [
    {
     "name": "stdout",
     "output_type": "stream",
     "text": [
      "{'a': 4, 'b': 6}\n"
     ]
    }
   ],
   "source": [
    " #exercice 92\n",
    "def total_par_cle(liste_dicts):\n",
    "    resultat = {}\n",
    "    for dictionnaire in liste_dicts:\n",
    "        for cle, valeur in dictionnaire.items():\n",
    "            resultat[cle] = resultat.get(cle, 0) + valeur\n",
    "    return resultat\n",
    "\n",
    "resultat = total_par_cle([{\"a\": 1, \"b\": 2}, {\"a\": 3, \"b\": 4}])\n",
    "print(resultat)"
   ]
  },
  {
   "cell_type": "code",
   "execution_count": 93,
   "id": "b96a4455",
   "metadata": {},
   "outputs": [
    {
     "name": "stdout",
     "output_type": "stream",
     "text": [
      "3\n"
     ]
    }
   ],
   "source": [
    "#exercice 93\n",
    "ma_liste = [1, 2, 2, 3, 3, 3, 4]\n",
    "compteur = {}\n",
    "for element in ma_liste:\n",
    "    compteur[element] = compteur.get(element, 0) + 1\n",
    "mode = max(compteur, key=compteur.get)\n",
    "print(mode)"
   ]
  },
  {
   "cell_type": "code",
   "execution_count": 94,
   "id": "79028f76",
   "metadata": {},
   "outputs": [
    {
     "name": "stdout",
     "output_type": "stream",
     "text": [
      "30\n"
     ]
    }
   ],
   "source": [
    "#exercice 94\n",
    "def somme_carres(ma_liste):\n",
    "    total = 0\n",
    "    for nombre in ma_liste:\n",
    "        total += nombre**2\n",
    "    return total\n",
    "\n",
    "resultat = somme_carres([1, 2, 3, 4])\n",
    "print(resultat)"
   ]
  },
  {
   "cell_type": "code",
   "execution_count": 95,
   "id": "ef6f81e3",
   "metadata": {},
   "outputs": [
    {
     "name": "stdout",
     "output_type": "stream",
     "text": [
      "[(1, 1), (2, 8), (3, 27), (4, 64), (5, 125)]\n"
     ]
    }
   ],
   "source": [
    "#exercice 95\n",
    "liste_tuples = []\n",
    "for i in range(1, 6):\n",
    "    liste_tuples.append((i, i**3))\n",
    "print(liste_tuples)"
   ]
  },
  {
   "cell_type": "code",
   "execution_count": 96,
   "id": "2e1b78f0",
   "metadata": {},
   "outputs": [
    {
     "name": "stdout",
     "output_type": "stream",
     "text": [
      "[2, 3, 5, 7, 11, 13, 17, 19]\n"
     ]
    }
   ],
   "source": [
    " #exercice96\n",
    "def nombres_premiers(n):\n",
    "    resultat = []\n",
    "    for numero in range(2, n+1):\n",
    "        est_premier = True\n",
    "        for i in range(2, int(numero**0.5)+1):\n",
    "            if numero % i == 0:\n",
    "                est_premier = False\n",
    "                break\n",
    "        if est_premier:\n",
    "            resultat.append(numero)\n",
    "    return resultat\n",
    "\n",
    "resultat = nombres_premiers(20)\n",
    "print(resultat)"
   ]
  },
  {
   "cell_type": "code",
   "execution_count": 97,
   "id": "b0dfa930",
   "metadata": {},
   "outputs": [
    {
     "name": "stdout",
     "output_type": "stream",
     "text": [
      "{'c', 'b'}\n"
     ]
    }
   ],
   "source": [
    "#exercice 97\n",
    "dict1 = {\"a\": 1, \"b\": 2, \"c\": 3}\n",
    "dict2 = {\"b\": 2, \"c\": 3, \"d\": 4}\n",
    "cles_communes = set(dict1.keys()) & set(dict2.keys())\n",
    "print(cles_communes)"
   ]
  },
  {
   "cell_type": "code",
   "execution_count": 98,
   "id": "d4cf9d3c",
   "metadata": {},
   "outputs": [
    {
     "name": "stdout",
     "output_type": "stream",
     "text": [
      "['banana']\n"
     ]
    }
   ],
   "source": [
    "#exercice 98\n",
    "def plus_de_5_caracteres(ma_liste):\n",
    "    resultat = []\n",
    "    for string in ma_liste:\n",
    "        if len(string) > 5:\n",
    "            resultat.append(string)\n",
    "    return resultat\n",
    "\n",
    "resultat = plus_de_5_caracteres([\"apple\", \"banana\", \"pear\"])\n",
    "print(resultat)"
   ]
  },
  {
   "cell_type": "code",
   "execution_count": 99,
   "id": "1f16cf8c",
   "metadata": {},
   "outputs": [
    {
     "name": "stdout",
     "output_type": "stream",
     "text": [
      "[('apple', 5), ('banana', 6), ('cherry', 6)]\n"
     ]
    }
   ],
   "source": [
    "#exercice 99\n",
    "ma_liste = [\"apple\", \"banana\", \"cherry\"]\n",
    "resultat = [(string, len(string)) for string in ma_liste]\n",
    "print(resultat)"
   ]
  },
  {
   "cell_type": "code",
   "execution_count": 100,
   "id": "a908dad9",
   "metadata": {},
   "outputs": [
    {
     "name": "stdout",
     "output_type": "stream",
     "text": [
      "{'a': 6, 'b': 6}\n"
     ]
    }
   ],
   "source": [
    "#exercice 100\n",
    "def somme_cles(liste_dicts):\n",
    "    resultat = {}\n",
    "    for dictionnaire in liste_dicts:\n",
    "        for cle, valeur in dictionnaire.items():\n",
    "            if cle in resultat:\n",
    "                resultat[cle] += valeur\n",
    "            else:\n",
    "                resultat[cle] = valeur\n",
    "    return resultat\n",
    "\n",
    "resultat = somme_cles([{\"a\": 1, \"b\": 2}, {\"a\": 3, \"b\": 4}, {\"a\": 2}])\n",
    "print(resultat)"
   ]
  }
 ],
 "metadata": {
  "colab": {
   "provenance": []
  },
  "kernelspec": {
   "display_name": "venv",
   "language": "python",
   "name": "python3"
  },
  "language_info": {
   "codemirror_mode": {
    "name": "ipython",
    "version": 3
   },
   "file_extension": ".py",
   "mimetype": "text/x-python",
   "name": "python",
   "nbconvert_exporter": "python",
   "pygments_lexer": "ipython3",
   "version": "3.13.3"
  }
 },
 "nbformat": 4,
 "nbformat_minor": 5
}
